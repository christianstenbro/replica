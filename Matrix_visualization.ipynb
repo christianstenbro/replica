{
 "cells": [
  {
   "cell_type": "code",
   "execution_count": 6,
   "metadata": {},
   "outputs": [
    {
     "name": "stdout",
     "output_type": "stream",
     "text": [
      "+---------+\n",
      "|1  2  3|\n",
      "|4  5  6|\n",
      "|7  8  9|\n",
      "+---------+\n"
     ]
    }
   ],
   "source": [
    "import numpy as np\n",
    "from tabulate import tabulate\n",
    "\n",
    "# Create a sample matrix\n",
    "matrix = np.array([[1, 2, 3], [4, 5, 6], [7, 8, 9]])\n",
    "\n",
    "# Convert the matrix to a tabular format\n",
    "table = tabulate(matrix, tablefmt=\"plain\")\n",
    "\n",
    "# Customize the appearance\n",
    "lines = table.split(\"\\n\")\n",
    "formatted_lines = [\"|\" + line + \"|\" for line in lines]\n",
    "top_border = \"+\" + \"-\" * (len(lines[0]) + 2) + \"+\"\n",
    "bottom_border = \"+\" + \"-\" * (len(lines[-1]) + 2) + \"+\"\n",
    "formatted_lines = [top_border] + formatted_lines + [bottom_border]\n",
    "\n",
    "# Print the matrix\n",
    "print(\"\\n\".join(formatted_lines))"
   ]
  }
 ],
 "metadata": {
  "kernelspec": {
   "display_name": "venv",
   "language": "python",
   "name": "python3"
  },
  "language_info": {
   "codemirror_mode": {
    "name": "ipython",
    "version": 3
   },
   "file_extension": ".py",
   "mimetype": "text/x-python",
   "name": "python",
   "nbconvert_exporter": "python",
   "pygments_lexer": "ipython3",
   "version": "3.10.11"
  },
  "orig_nbformat": 4
 },
 "nbformat": 4,
 "nbformat_minor": 2
}
